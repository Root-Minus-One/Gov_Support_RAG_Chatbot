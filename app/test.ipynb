{
 "cells": [
  {
   "cell_type": "code",
   "execution_count": 1,
   "id": "5d54d891",
   "metadata": {},
   "outputs": [],
   "source": [
    "from pypdf import PdfReader"
   ]
  },
  {
   "cell_type": "code",
   "execution_count": 6,
   "id": "078eab2e",
   "metadata": {},
   "outputs": [],
   "source": [
    "pdf_path = r\"C:\\Users\\Ruthvik\\gov chat support system\\dataset\\Indian Constitution.pdf\""
   ]
  },
  {
   "cell_type": "code",
   "execution_count": 11,
   "id": "ba0a3718",
   "metadata": {},
   "outputs": [],
   "source": [
    "extract = PdfReader(pdf_path)"
   ]
  },
  {
   "cell_type": "code",
   "execution_count": 15,
   "id": "1ec57d28",
   "metadata": {},
   "outputs": [],
   "source": [
    "text = \"\"\n",
    "for page in extract.pages:\n",
    "    text = text + page.extract_text() or ''"
   ]
  },
  {
   "cell_type": "code",
   "execution_count": null,
   "id": "cd45fad4",
   "metadata": {},
   "outputs": [
    {
     "data": {
      "text/plain": [
       "852500"
      ]
     },
     "execution_count": 18,
     "metadata": {},
     "output_type": "execute_result"
    }
   ],
   "source": []
  },
  {
   "cell_type": "code",
   "execution_count": null,
   "id": "994352ec",
   "metadata": {},
   "outputs": [],
   "source": []
  }
 ],
 "metadata": {
  "kernelspec": {
   "display_name": "ministry_env",
   "language": "python",
   "name": "python3"
  },
  "language_info": {
   "codemirror_mode": {
    "name": "ipython",
    "version": 3
   },
   "file_extension": ".py",
   "mimetype": "text/x-python",
   "name": "python",
   "nbconvert_exporter": "python",
   "pygments_lexer": "ipython3",
   "version": "3.10.0"
  }
 },
 "nbformat": 4,
 "nbformat_minor": 5
}
